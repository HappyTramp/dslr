{
 "cells": [
  {
   "cell_type": "markdown",
   "metadata": {},
   "source": [
    "# Logistic Regression\n",
    "\n",
    "Logistic regression is a *classification algorithm*."
   ]
  },
  {
   "cell_type": "code",
   "execution_count": 1,
   "metadata": {},
   "outputs": [
    {
     "data": {
      "text/plain": [
       "Text(0.5, 1.0, 'Data representation')"
      ]
     },
     "execution_count": 1,
     "metadata": {},
     "output_type": "execute_result"
    },
    {
     "data": {
      "image/png": "[encoded data removed]",
      "text/plain": [
       "<Figure size 432x288 with 1 Axes>"
      ]
     },
     "metadata": {
      "needs_background": "light"
     },
     "output_type": "display_data"
    }
   ],
   "source": [
    "import numpy as np\n",
    "import matplotlib.pyplot as plt\n",
    "%matplotlib inline\n",
    "from sklearn.datasets import make_blobs\n",
    "from sklearn.model_selection import train_test_split\n",
    "\n",
    "\n",
    "# create linearly separable data\n",
    "sep = False\n",
    "while not sep:\n",
    "    X, Y = make_blobs(n_samples=200, n_features\n",
    "                      =1, centers=2, cluster_std=0.5, center_box=(0, 10))\n",
    "    sep = True\n",
    "    for x_1 in X[Y == 1]:\n",
    "        for x_0 in X[Y == 0]:\n",
    "            if Y[X.argmin()] == 0 and x_0 > x_1:\n",
    "                sep = False\n",
    "            elif x_0 < x_1:\n",
    "                sep = False\n",
    "                \n",
    "X_train, X_test, Y_train, Y_test = train_test_split(X, Y, test_size=0.33)\n",
    "\n",
    "plt.scatter(X, Y, s=10, c='b')\n",
    "plt.xlabel('feature')\n",
    "plt.ylabel('groups')\n",
    "plt.yticks([0, 1])\n",
    "plt.title('Data representation')"
   ]
  },
  {
   "cell_type": "markdown",
   "metadata": {},
   "source": [
    "## Model\n",
    "\n",
    "We have to fit a **model** trough our data.  \n",
    "A *sigmoid* (also called *logistic*) function is used:\n",
    "$$\\sigma(x) = \\frac{1}{1 + e^{-x}}$$\n",
    "\n",
    "It produce an 'S' shape like function that stays between 0 and 1"
   ]
  },
  {
   "cell_type": "code",
   "execution_count": 2,
   "metadata": {},
   "outputs": [
    {
     "data": {
      "text/plain": [
       "Text(0.5, 1.0, 'Sigmoid function')"
      ]
     },
     "execution_count": 2,
     "metadata": {},
     "output_type": "execute_result"
    },
    {
     "data": {
      "image/png": "[encoded data removed]",
      "text/plain": [
       "<Figure size 432x288 with 1 Axes>"
      ]
     },
     "metadata": {
      "needs_background": "light"
     },
     "output_type": "display_data"
    }
   ],
   "source": [
    "def sigmoid(x):\n",
    "    return 1 / (1 + np.exp(-x))\n",
    "\n",
    "xs = np.linspace(-7, 7, 100)\n",
    "ys = sigmoid(xs)\n",
    "plt.plot(xs, ys, label=r'$\\sigma(x) = {\\frac{1}{1 + e^{-x}}}$')\n",
    "plt.yticks([0, 0.5, 1])\n",
    "plt.xlim([-7, 7])\n",
    "plt.legend()\n",
    "plt.grid()\n",
    "plt.title('Sigmoid function')"
   ]
  },
  {
   "cell_type": "code",
   "execution_count": 3,
   "metadata": {},
   "outputs": [
    {
     "data": {
      "text/plain": [
       "Text(0.5, 1.0, 'Approximation')"
      ]
     },
     "execution_count": 3,
     "metadata": {},
     "output_type": "execute_result"
    },
    {
     "data": {
      "image/png": "[encoded data removed]",
      "text/plain": [
       "<Figure size 432x288 with 1 Axes>"
      ]
     },
     "metadata": {
      "needs_background": "light"
     },
     "output_type": "display_data"
    }
   ],
   "source": [
    "#  helper function for approximation\n",
    "def sigmoid_mu_s(x, mu, s):\n",
    "    return 1 / (1 + np.exp(-(x + mu) / s))\n",
    "\n",
    "plt.scatter(X, Y, s=10, c='b', alpha=0.5)\n",
    "sig_x = np.linspace(X.min(), X.max(), 100)\n",
    "y_flip = 1 if Y[X.argmin()] == 0 else -1\n",
    "sig_y = sigmoid_mu_s(sig_x, -X.mean(), y_flip * 0.5)\n",
    "plt.plot(sig_x, sig_y, c='r')\n",
    "plt.yticks([0, 0.5, 1])\n",
    "plt.title('Approximation')"
   ]
  },
  {
   "cell_type": "markdown",
   "metadata": {},
   "source": [
    "## Hypothesis and Prediction\n",
    "\n",
    "We can tweak the sigmoid function by passing the dot product of $x$ (vector of feature) and $\\theta$ (the vector of weights).\n",
    "\n",
    "$$h(x) = \\sigma(x \\cdot \\theta) = \\sigma(\\theta_0 x_0 + \\theta_1 x_1 + \\cdots + \\theta_n x_n)$$\n",
    "$x_0$ being equal to 1.  \n",
    "$\\theta$ is not a parameter of $h$ because it's considered as a constant.\n",
    "\n",
    "$h$ is our hypothesis function. It return a probability of an $x$ to belong to one of the group.  \n",
    "To predict some new $x$ we input it to $h$ with the weights and see if the returned value if above or below 0.5.\n",
    "\n",
    "$$\n",
    "\\text{prediction} =\n",
    "    \\begin{cases} \n",
    "        1, & h(x) \\ge 0.5 \\\\\n",
    "        0, & h(x) \\lt 0.5\n",
    "    \\end{cases}\n",
    "$$\n",
    "\n",
    "This is equivalent to:\n",
    "\n",
    "$$\n",
    "\\text{prediction} =\n",
    "    \\begin{cases} \n",
    "        1, & x \\cdot \\theta \\ge 0 \\\\\n",
    "        0, & x \\cdot \\theta \\lt 0\n",
    "    \\end{cases}\n",
    "$$\n",
    "\n",
    "Indeed, in the sigmoid funcion:  \n",
    "* $x$ is *above* 0 then $e^{-x}$ tend to be small, $\\frac{1}{1 + \\text{small number}} \\approx 1$.  \n",
    "* $x$ is *below* 0 then $e^{-x}$ tend to be big, $\\frac{1}{1 + \\text{big number}} \\approx 0$. \n",
    "\n",
    "Therefore, a prediction can be visualized by projecting $x$ onto $\\theta$.  \n",
    "It will be more relevant the more the two vectors go in the same direction\n",
    "(or opposite direction for negative projection),\n",
    "for exemple if $x \\cdot \\theta = 0$ then $x$ is perpendicular to $\\theta$,\n",
    "$h(x) = 0.5$ right in the middle of the sigmoid function,\n",
    "the prediction become more irelevant as $x \\cdot \\theta$ tend to 0."
   ]
  },
  {
   "cell_type": "code",
   "execution_count": 4,
   "metadata": {},
   "outputs": [],
   "source": [
    "def hypothesis(x, theta):\n",
    "    # suppose that x_0 = 1 and isn't mentionned\n",
    "    return sigmoid(theta[0] + x.dot(theta[1:]))\n",
    "\n",
    "\n",
    "def predict(x, theta):\n",
    "    return int(hypothesis(x, theta) >= 0.5)  #  a bit more clear\n",
    "    # or\n",
    "    return int(theta[0] + x.dot(theta[1:]) >= 0)\n",
    "    # there is a nice vector interpretation for this one\n",
    "    # and it probably compute faster"
   ]
  },
  {
   "cell_type": "markdown",
   "metadata": {},
   "source": [
    "## Cost function\n",
    "\n",
    "We have to evaluate our model by introducing a cost function, this one is called the *logloss*\n",
    "\n",
    "For a single $x$:\n",
    "$$\n",
    "j(h(x), y) = \n",
    "    \\begin{cases} \n",
    "        -\\ln(h(x)),     & y = 1 \\\\\n",
    "        -\\ln(1 - h(x)), & y = 0 \n",
    "    \\end{cases}\n",
    "$$\n",
    "It can be rewritten as a single continuous function:\n",
    "$$ j(h(x), y) = -y \\ln(h(x)) - (1 - y) \\ln(1 - h(x))$$\n",
    "\n",
    "Even if it may seem more complicated at first sight, it's just a switch with the values of $y$.  \n",
    "- if $y = 1$ then $- (1 - y) \\ln(1 - h(x)) = 0$ and the $-\\ln(h(x))$ stays.\n",
    "- if $y = 0$ then $-y \\ln(h(x)) = 0$            and the $-\\ln(1 - h(x))$ stays."
   ]
  },
  {
   "cell_type": "code",
   "execution_count": 5,
   "metadata": {
    "scrolled": true
   },
   "outputs": [
    {
     "data": {
      "text/plain": [
       "Text(0.5, 1.0, 'cost function')"
      ]
     },
     "execution_count": 5,
     "metadata": {},
     "output_type": "execute_result"
    },
    {
     "data": {
      "image/png": "[encoded data removed]",
      "text/plain": [
       "<Figure size 432x288 with 1 Axes>"
      ]
     },
     "metadata": {
      "needs_background": "light"
     },
     "output_type": "display_data"
    }
   ],
   "source": [
    "xs = np.linspace(0.001, 0.999, 100)\n",
    "ys_0 = [-np.log(1 - x) for x in xs]\n",
    "ys_1 = [-np.log(x) for x in xs]\n",
    "plt.plot(xs, ys_1, label=r'$y = 1, -\\ln(h(x))$')\n",
    "plt.plot(xs, ys_0, label=r'$y = 0, -\\ln(1 - h(x))$')\n",
    "plt.ylim([0, 5])\n",
    "plt.xlim([0, 1])\n",
    "plt.xticks([0, 0.5, 1])\n",
    "plt.legend()\n",
    "plt.title('cost function')"
   ]
  },
  {
   "cell_type": "code",
   "execution_count": 6,
   "metadata": {
    "scrolled": true
   },
   "outputs": [],
   "source": [
    "def logloss(x, y, theta):\n",
    "    if y == 1:\n",
    "        return -np.log(hypothesis(x, theta))\n",
    "    elif y == 0:\n",
    "        return -np.log(1 - hypothesis(x, theta))\n",
    "    #  or (less obvious)\n",
    "    return -y * np.log(hypothesis(x, theta)) - (1 - y) * np.log(1 - hypothesis(x, theta))"
   ]
  },
  {
   "cell_type": "markdown",
   "metadata": {},
   "source": [
    "We can see that if $y$ was suppose to be 0 but is close to 1, the cost will be high.  \n",
    "Same logic if $y$ was suppose to be 1 but is close to 0.\n",
    "\n",
    "Then we generalize the cost function for all $x$:\n",
    "$$J(\\theta) = \\frac{1}{n} \\sum_{i = 1}^{n} j(h(x_i), y_i)$$\n",
    "$n$ is the number of elements in $X$ and $Y$."
   ]
  },
  {
   "cell_type": "code",
   "execution_count": 7,
   "metadata": {},
   "outputs": [],
   "source": [
    "def cost(xs, ys, theta):\n",
    "    return sum([logloss(x, y, theta) for x, y in zip(xs, ys)]) / len(xs)"
   ]
  },
  {
   "cell_type": "markdown",
   "metadata": {},
   "source": [
    "## Optimization\n",
    "\n",
    "### Gradient descent\n",
    "\n",
    "Finally, use gradient descent to minimize the cost function:\n",
    "\n",
    "$$\\theta_i := \\theta_i - \\alpha \\frac{\\partial}{\\partial \\theta_i} J(\\theta)\\ \\text{ for } i = 1, ..., n$$\n",
    "\n",
    "Or with gradient notation:\n",
    "\n",
    "$$ \\theta := \\theta - \\alpha \\nabla J(\\theta)$$\n",
    "\n",
    "\n",
    "$\\alpha$ is the learning rate (how fast we want the step to be).  \n",
    "Since $\\theta_i$ is only used in the dot product, all of them will have similar partial derivative.\n",
    "\n",
    "let $z = x \\cdot \\theta_j$\n",
    "\n",
    "$\\newcommand{\\pt}{\\frac{\\partial}{\\partial \\theta_j}}$\n",
    "$$\n",
    "\\begin{align}\n",
    "      & \\pt J(\\theta) \\\\\n",
    "    = & \\pt \\left[ \\frac{1}{n} \\sum_{i = 1}^{n} j(h(x_i, \\theta), y_i) \\right] \\\\\n",
    "    = & \\pt \\left[ \\frac{1}{n} \\sum_{i = 1}^{n}\n",
    "        (-y_i \\ln(h(x_i, \\theta)) - (1 - y_i) \\ln(1 - h(x_i, \\theta))) \\right] \\\\\n",
    "    = & \\pt \\left[ \\frac{1}{n} \\sum_{i = 1}^{n}\n",
    "        (-y_i \\ln(\\sigma(z)) - (1 - y_i) \\ln(1 - \\sigma(z))) \\right] \\\\\n",
    "    = & \\pt \\left[ \\frac{1}{n} \\sum_{i = 1}^{n}\n",
    "        (-y_i \\ln(\\frac{1}{1 + e^{-z}}) -\n",
    "        (1 - y_i) \\ln(1 - \\frac{1}{1 + e^{-z}})) \\right] \\\\\n",
    "    = & \\frac{1}{n} \\sum_{i = 1}^{n} \\pt \\left[ \n",
    "        -y_i \\ln(\\frac{1}{1 + e^{-z}}) -\n",
    "        (1 - y_i) \\ln(1 - \\frac{1}{1 + e^{-z}}) \\right] \\\\\n",
    "    = & \\frac{1}{n} \\sum_{i = 1}^{n} \\left(\n",
    "        -y_i \\pt \\left[ \\ln(\\frac{1}{1 + e^{-z}}) \\right] -\n",
    "        (1 - y_i) \\pt \\left[ \\ln(1 - \\frac{1}{1 + e^{-z}}) \\right] \\right) \\\\\n",
    "    = & \\frac{1}{n} \\sum_{i = 1}^{n} \\left(\n",
    "        -y_i(1 + e^{-z}) \\pt \\left[ \\frac{1}{1 + e^{-z}} \\right]\n",
    "        - (1 - y_i) \\frac{1}{1 - \\frac{1}{1 + e^{-z}}} \\pt \\left[ 1 - \\frac{1}{1 + e^{-z}} \\right]\n",
    "        \\right) \\\\\n",
    "    = & \\frac{1}{n} \\sum_{i = 1}^{n} \\left(\n",
    "        -y_i(1 + e^{-z}) \\pt \\left[ \\frac{1}{1 + e^{-z}} \\right]\n",
    "        - (1 - y_i) \\frac{1 + e^{-z}}{e^{-z}} (-1) \\pt \\left[ \\frac{1}{1 + e^{-z}} \\right]\n",
    "        \\right) \\\\\n",
    "    = & \\frac{1}{n} \\sum_{i = 1}^{n} \\left(\n",
    "        -y_i(1 + e^{-z}) \\frac{e^{-z}}{(1 + e^{-z})^2} \\pt z\n",
    "        - (1 - y_i) \\frac{1 + e^{-z}}{e^{-z}} (-1) \\frac{e^{-z}}{(1 + e^{-z})^2} \\pt z\n",
    "        \\right) \\\\\n",
    "    = & \\frac{1}{n} \\sum_{i = 1}^{n} \\left(\n",
    "        -y_i \\frac{e^{-z}}{1 + e^{-z}} x_{ij}\n",
    "        + (1 - y_i) \\frac{1}{1 + e^{-z}} x_{ij}\n",
    "        \\right) \\\\\n",
    "    = & \\frac{1}{n} \\sum_{i = 1}^{n} \\left(\n",
    "        \\frac{-y_i e^{-z}}{1 + e^{-z}}\n",
    "        + \\frac{(1 - y_i)}{1 + e^{-z}} \\right) x_{ij} \\\\\n",
    "    = & \\frac{1}{n} \\sum_{i = 1}^{n} \\left(\n",
    "        \\frac{-y_i e^{-z} + 1 - y_i}{1 + e^{-z}} \\right) x_{ij} \\\\\n",
    "\\end{align}\n",
    "$$\n",
    "\n",
    "$$\n",
    "\\boxed{\n",
    "    = \\frac{1}{n} \\sum_{i = 1}^{n} \\left( (h(x_i) - y_i) x_{ij} \\right)\n",
    "}$$"
   ]
  },
  {
   "cell_type": "code",
   "execution_count": 8,
   "metadata": {},
   "outputs": [],
   "source": [
    "def cost_partial_theta(xs, ys, theta, theta_j):\n",
    "    total = 0\n",
    "    for x_i, y_i in zip(xs, ys):\n",
    "        temp = hypothesis(x_i, theta) - y_i\n",
    "        if theta_j != 0:\n",
    "            temp *= x_i[theta_j - 1]\n",
    "        total += temp\n",
    "    return total / len(xs)\n",
    "\n",
    "\n",
    "def cost_gradient(xs, ys, theta):\n",
    "    return np.array([cost_partial_theta(xs, ys, theta, i)\n",
    "                     for i in range(len(theta))])"
   ]
  },
  {
   "cell_type": "code",
   "execution_count": 18,
   "metadata": {},
   "outputs": [],
   "source": [
    "def gradient_descent(xs, ys, theta, alpha=1, epoch=100):\n",
    "    for _ in range(epoch):\n",
    "        theta = theta - alpha * cost_gradient(xs, ys, theta)     \n",
    "    return theta"
   ]
  },
  {
   "cell_type": "code",
   "execution_count": 39,
   "metadata": {},
   "outputs": [
    {
     "name": "stdout",
     "output_type": "stream",
     "text": [
      "weights:   29.40983934878407 -5.527334155188794\n",
      "train cost: 0.007186648908279271\n",
      "test cost:  0.010992176598402464\n"
     ]
    }
   ],
   "source": [
    "theta = np.random.randn(len(X_train[0]) + 1)\n",
    "theta = gradient_descent(X_train, Y_train, theta, 4, 500)\n",
    "print('weights:  ', *theta)\n",
    "print('train cost:', cost(X_train, Y_train, theta))\n",
    "print('test cost: ', cost(X_test, Y_test, theta))"
   ]
  },
  {
   "cell_type": "code",
   "execution_count": 40,
   "metadata": {},
   "outputs": [
    {
     "data": {
      "text/plain": [
       "Text(0.5, 1.0, 'Optimized model')"
      ]
     },
     "execution_count": 40,
     "metadata": {},
     "output_type": "execute_result"
    },
    {
     "data": {
      "image/png": "[encoded data removed]",
      "text/plain": [
       "<Figure size 432x288 with 1 Axes>"
      ]
     },
     "metadata": {
      "needs_background": "light"
     },
     "output_type": "display_data"
    }
   ],
   "source": [
    "plt.scatter(X_train, Y_train, s=8, c='b', alpha=0.4, label='train data')\n",
    "plt.scatter(X_test, Y_test, s=10, c='g', label='test data')\n",
    "sig_x = np.linspace(X.min(), X.max(), 100)\n",
    "sig_y = [hypothesis(np.array([x]), theta) for x in sig_x]\n",
    "plt.plot(sig_x, sig_y, c='r', alpha=0.5, label='model')\n",
    "plt.yticks([0, 0.5, 1])\n",
    "plt.legend()\n",
    "plt.grid(axis='y')\n",
    "plt.title('Optimized model')"
   ]
  }
 ],
 "metadata": {
  "kernelspec": {
   "display_name": "Python 3",
   "language": "python",
   "name": "python3"
  },
  "language_info": {
   "codemirror_mode": {
    "name": "ipython",
    "version": 3
   },
   "file_extension": ".py",
   "mimetype": "text/x-python",
   "name": "python",
   "nbconvert_exporter": "python",
   "pygments_lexer": "ipython3",
   "version": "3.7.3"
  }
 },
 "nbformat": 4,
 "nbformat_minor": 2
}
