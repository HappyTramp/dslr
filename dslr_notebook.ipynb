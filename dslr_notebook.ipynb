{
 "cells": [
  {
   "cell_type": "markdown",
   "metadata": {},
   "source": [
    "# dslr\n",
    "\n",
    "DataScience project of school 42"
   ]
  },
  {
   "cell_type": "code",
   "execution_count": 1,
   "metadata": {
    "scrolled": false
   },
   "outputs": [
    {
     "data": {
      "text/plain": [
       "array(['Ravenclaw', 'Slytherin', 'Gryffindor', 'Hufflepuff'], dtype=object)"
      ]
     },
     "execution_count": 1,
     "metadata": {},
     "output_type": "execute_result"
    }
   ],
   "source": [
    "import pandas as pd\n",
    "import numpy as np\n",
    "import matplotlib.pyplot as plt\n",
    "\n",
    "df = pd.read_csv(\"./datasets/dataset_train.csv\")\n",
    "df.drop(columns=[\"Index\"], inplace=True)\n",
    "df.dropna(inplace=True)\n",
    "df['Hogwarts House'].unique()"
   ]
  },
  {
   "cell_type": "code",
   "execution_count": 2,
   "metadata": {},
   "outputs": [
    {
     "data": {
      "text/html": [
       "<div>\n",
       "<style scoped>\n",
       "    .dataframe tbody tr th:only-of-type {\n",
       "        vertical-align: middle;\n",
       "    }\n",
       "\n",
       "    .dataframe tbody tr th {\n",
       "        vertical-align: top;\n",
       "    }\n",
       "\n",
       "    .dataframe thead th {\n",
       "        text-align: right;\n",
       "    }\n",
       "</style>\n",
       "<table border=\"1\" class=\"dataframe\">\n",
       "  <thead>\n",
       "    <tr style=\"text-align: right;\">\n",
       "      <th></th>\n",
       "      <th>Arithmancy</th>\n",
       "      <th>Astronomy</th>\n",
       "      <th>Herbology</th>\n",
       "      <th>Defense Against the Dark Arts</th>\n",
       "      <th>Divination</th>\n",
       "      <th>Muggle Studies</th>\n",
       "      <th>Ancient Runes</th>\n",
       "      <th>History of Magic</th>\n",
       "      <th>Transfiguration</th>\n",
       "      <th>Potions</th>\n",
       "      <th>Care of Magical Creatures</th>\n",
       "      <th>Charms</th>\n",
       "      <th>Flying</th>\n",
       "    </tr>\n",
       "  </thead>\n",
       "  <tbody>\n",
       "    <tr>\n",
       "      <th>0</th>\n",
       "      <td>58384.0</td>\n",
       "      <td>-487.886086</td>\n",
       "      <td>5.727180</td>\n",
       "      <td>4.878861</td>\n",
       "      <td>4.722</td>\n",
       "      <td>272.035831</td>\n",
       "      <td>532.484226</td>\n",
       "      <td>5.231058</td>\n",
       "      <td>1039.788281</td>\n",
       "      <td>3.790369</td>\n",
       "      <td>0.715939</td>\n",
       "      <td>-232.79405</td>\n",
       "      <td>-26.89</td>\n",
       "    </tr>\n",
       "    <tr>\n",
       "      <th>2</th>\n",
       "      <td>23702.0</td>\n",
       "      <td>-366.076117</td>\n",
       "      <td>7.725017</td>\n",
       "      <td>3.660761</td>\n",
       "      <td>6.140</td>\n",
       "      <td>664.893521</td>\n",
       "      <td>602.585284</td>\n",
       "      <td>3.555579</td>\n",
       "      <td>1088.088348</td>\n",
       "      <td>8.728531</td>\n",
       "      <td>-0.515327</td>\n",
       "      <td>-227.34265</td>\n",
       "      <td>30.42</td>\n",
       "    </tr>\n",
       "    <tr>\n",
       "      <th>14</th>\n",
       "      <td>44791.0</td>\n",
       "      <td>-197.527318</td>\n",
       "      <td>2.742444</td>\n",
       "      <td>1.975273</td>\n",
       "      <td>6.603</td>\n",
       "      <td>527.356323</td>\n",
       "      <td>605.590600</td>\n",
       "      <td>5.480097</td>\n",
       "      <td>1063.522361</td>\n",
       "      <td>9.407484</td>\n",
       "      <td>-1.112649</td>\n",
       "      <td>-232.65964</td>\n",
       "      <td>-19.94</td>\n",
       "    </tr>\n",
       "    <tr>\n",
       "      <th>15</th>\n",
       "      <td>21630.0</td>\n",
       "      <td>-447.649812</td>\n",
       "      <td>4.046727</td>\n",
       "      <td>4.476498</td>\n",
       "      <td>4.949</td>\n",
       "      <td>810.154483</td>\n",
       "      <td>615.531088</td>\n",
       "      <td>3.653495</td>\n",
       "      <td>1075.853850</td>\n",
       "      <td>9.622899</td>\n",
       "      <td>0.567096</td>\n",
       "      <td>-229.38229</td>\n",
       "      <td>17.00</td>\n",
       "    </tr>\n",
       "    <tr>\n",
       "      <th>18</th>\n",
       "      <td>15578.0</td>\n",
       "      <td>-151.088209</td>\n",
       "      <td>6.871857</td>\n",
       "      <td>1.510882</td>\n",
       "      <td>7.906</td>\n",
       "      <td>645.447451</td>\n",
       "      <td>607.442729</td>\n",
       "      <td>6.317446</td>\n",
       "      <td>1091.054831</td>\n",
       "      <td>11.708777</td>\n",
       "      <td>0.260556</td>\n",
       "      <td>-226.76896</td>\n",
       "      <td>11.22</td>\n",
       "    </tr>\n",
       "  </tbody>\n",
       "</table>\n",
       "</div>"
      ],
      "text/plain": [
       "    Arithmancy   Astronomy  Herbology  Defense Against the Dark Arts  \\\n",
       "0      58384.0 -487.886086   5.727180                       4.878861   \n",
       "2      23702.0 -366.076117   7.725017                       3.660761   \n",
       "14     44791.0 -197.527318   2.742444                       1.975273   \n",
       "15     21630.0 -447.649812   4.046727                       4.476498   \n",
       "18     15578.0 -151.088209   6.871857                       1.510882   \n",
       "\n",
       "    Divination  Muggle Studies  Ancient Runes  History of Magic  \\\n",
       "0        4.722      272.035831     532.484226          5.231058   \n",
       "2        6.140      664.893521     602.585284          3.555579   \n",
       "14       6.603      527.356323     605.590600          5.480097   \n",
       "15       4.949      810.154483     615.531088          3.653495   \n",
       "18       7.906      645.447451     607.442729          6.317446   \n",
       "\n",
       "    Transfiguration    Potions  Care of Magical Creatures     Charms  Flying  \n",
       "0       1039.788281   3.790369                   0.715939 -232.79405  -26.89  \n",
       "2       1088.088348   8.728531                  -0.515327 -227.34265   30.42  \n",
       "14      1063.522361   9.407484                  -1.112649 -232.65964  -19.94  \n",
       "15      1075.853850   9.622899                   0.567096 -229.38229   17.00  \n",
       "18      1091.054831  11.708777                   0.260556 -226.76896   11.22  "
      ]
     },
     "execution_count": 2,
     "metadata": {},
     "output_type": "execute_result"
    }
   ],
   "source": [
    "def house_scores_df(house_name):\n",
    "    house_filt = (df['Hogwarts House'] == house_name)\n",
    "    return df[house_filt].loc[:, 'Arithmancy':'Flying']\n",
    "\n",
    "houses_df = {key: house_scores_df(key) for key in df['Hogwarts House'].unique()}\n",
    "houses_df['Ravenclaw'].head()"
   ]
  },
  {
   "cell_type": "code",
   "execution_count": 3,
   "metadata": {},
   "outputs": [
    {
     "data": {
      "text/html": [
       "<div>\n",
       "<style scoped>\n",
       "    .dataframe tbody tr th:only-of-type {\n",
       "        vertical-align: middle;\n",
       "    }\n",
       "\n",
       "    .dataframe tbody tr th {\n",
       "        vertical-align: top;\n",
       "    }\n",
       "\n",
       "    .dataframe thead th {\n",
       "        text-align: right;\n",
       "    }\n",
       "</style>\n",
       "<table border=\"1\" class=\"dataframe\">\n",
       "  <thead>\n",
       "    <tr style=\"text-align: right;\">\n",
       "      <th></th>\n",
       "      <th>Arithmancy</th>\n",
       "      <th>Astronomy</th>\n",
       "      <th>Herbology</th>\n",
       "      <th>Defense Against the Dark Arts</th>\n",
       "      <th>Divination</th>\n",
       "      <th>Muggle Studies</th>\n",
       "      <th>Ancient Runes</th>\n",
       "      <th>History of Magic</th>\n",
       "      <th>Transfiguration</th>\n",
       "      <th>Potions</th>\n",
       "      <th>Care of Magical Creatures</th>\n",
       "      <th>Charms</th>\n",
       "      <th>Flying</th>\n",
       "    </tr>\n",
       "  </thead>\n",
       "  <tbody>\n",
       "    <tr>\n",
       "      <th>0</th>\n",
       "      <td>0.070306</td>\n",
       "      <td>-0.005636</td>\n",
       "      <td>0.043022</td>\n",
       "      <td>0.005636</td>\n",
       "      <td>-0.015935</td>\n",
       "      <td>-0.117316</td>\n",
       "      <td>-0.163066</td>\n",
       "      <td>0.019460</td>\n",
       "      <td>-0.077827</td>\n",
       "      <td>-0.252914</td>\n",
       "      <td>0.124483</td>\n",
       "      <td>-0.056668</td>\n",
       "      <td>-0.074683</td>\n",
       "    </tr>\n",
       "    <tr>\n",
       "      <th>2</th>\n",
       "      <td>-0.197869</td>\n",
       "      <td>0.068820</td>\n",
       "      <td>0.166863</td>\n",
       "      <td>-0.068820</td>\n",
       "      <td>0.075970</td>\n",
       "      <td>0.103740</td>\n",
       "      <td>0.013395</td>\n",
       "      <td>-0.092922</td>\n",
       "      <td>0.281957</td>\n",
       "      <td>0.135497</td>\n",
       "      <td>-0.091151</td>\n",
       "      <td>0.126031</td>\n",
       "      <td>0.106128</td>\n",
       "    </tr>\n",
       "    <tr>\n",
       "      <th>14</th>\n",
       "      <td>-0.034800</td>\n",
       "      <td>0.171845</td>\n",
       "      <td>-0.141995</td>\n",
       "      <td>-0.171845</td>\n",
       "      <td>0.105978</td>\n",
       "      <td>0.026350</td>\n",
       "      <td>0.020960</td>\n",
       "      <td>0.036164</td>\n",
       "      <td>0.098966</td>\n",
       "      <td>0.188900</td>\n",
       "      <td>-0.195761</td>\n",
       "      <td>-0.052163</td>\n",
       "      <td>-0.052756</td>\n",
       "    </tr>\n",
       "    <tr>\n",
       "      <th>15</th>\n",
       "      <td>-0.213890</td>\n",
       "      <td>0.018958</td>\n",
       "      <td>-0.061146</td>\n",
       "      <td>-0.018958</td>\n",
       "      <td>-0.001222</td>\n",
       "      <td>0.185477</td>\n",
       "      <td>0.045982</td>\n",
       "      <td>-0.086354</td>\n",
       "      <td>0.190823</td>\n",
       "      <td>0.205844</td>\n",
       "      <td>0.098415</td>\n",
       "      <td>0.057674</td>\n",
       "      <td>0.063788</td>\n",
       "    </tr>\n",
       "    <tr>\n",
       "      <th>18</th>\n",
       "      <td>-0.260687</td>\n",
       "      <td>0.200230</td>\n",
       "      <td>0.113977</td>\n",
       "      <td>-0.200230</td>\n",
       "      <td>0.190430</td>\n",
       "      <td>0.092798</td>\n",
       "      <td>0.025622</td>\n",
       "      <td>0.092329</td>\n",
       "      <td>0.304054</td>\n",
       "      <td>0.369908</td>\n",
       "      <td>0.044731</td>\n",
       "      <td>0.145258</td>\n",
       "      <td>0.045552</td>\n",
       "    </tr>\n",
       "  </tbody>\n",
       "</table>\n",
       "</div>"
      ],
      "text/plain": [
       "    Arithmancy  Astronomy  Herbology  Defense Against the Dark Arts  \\\n",
       "0     0.070306  -0.005636   0.043022                       0.005636   \n",
       "2    -0.197869   0.068820   0.166863                      -0.068820   \n",
       "14   -0.034800   0.171845  -0.141995                      -0.171845   \n",
       "15   -0.213890   0.018958  -0.061146                      -0.018958   \n",
       "18   -0.260687   0.200230   0.113977                      -0.200230   \n",
       "\n",
       "    Divination  Muggle Studies  Ancient Runes  History of Magic  \\\n",
       "0    -0.015935       -0.117316      -0.163066          0.019460   \n",
       "2     0.075970        0.103740       0.013395         -0.092922   \n",
       "14    0.105978        0.026350       0.020960          0.036164   \n",
       "15   -0.001222        0.185477       0.045982         -0.086354   \n",
       "18    0.190430        0.092798       0.025622          0.092329   \n",
       "\n",
       "    Transfiguration   Potions  Care of Magical Creatures    Charms    Flying  \n",
       "0         -0.077827 -0.252914                   0.124483 -0.056668 -0.074683  \n",
       "2          0.281957  0.135497                  -0.091151  0.126031  0.106128  \n",
       "14         0.098966  0.188900                  -0.195761 -0.052163 -0.052756  \n",
       "15         0.190823  0.205844                   0.098415  0.057674  0.063788  \n",
       "18         0.304054  0.369908                   0.044731  0.145258  0.045552  "
      ]
     },
     "execution_count": 3,
     "metadata": {},
     "output_type": "execute_result"
    }
   ],
   "source": [
    "def normalize_house_scores_df(house_scores_df):\n",
    "    return (house_scores_df - house_scores_df.mean()) / (house_scores_df.max() - house_scores_df.min())\n",
    "\n",
    "for k, v in houses_df.items():\n",
    "    houses_df[k] = normalize_house_scores_df(v)\n",
    "houses_df['Ravenclaw'].head()"
   ]
  },
  {
   "cell_type": "code",
   "execution_count": 4,
   "metadata": {},
   "outputs": [
    {
     "data": {
      "text/plain": [
       "array([-0.65609001, -0.55609001, -0.45609001, -0.35609001, -0.25609001,\n",
       "       -0.15609001, -0.05609001,  0.04390999,  0.14390999,  0.24390999,\n",
       "        0.34390999,  0.44390999,  0.54390999])"
      ]
     },
     "execution_count": 4,
     "metadata": {},
     "output_type": "execute_result"
    }
   ],
   "source": [
    "scores_df = normalize_house_scores_df(df.loc[:, 'Arithmancy':'Flying'])\n",
    "\n",
    "bins = np.arange(scores_df.min().min(), scores_df.max().max(), 0.1)\n",
    "bins"
   ]
  },
  {
   "cell_type": "code",
   "execution_count": 5,
   "metadata": {},
   "outputs": [
    {
     "data": {
      "image/png": "[encoded data removed]",
      "text/plain": [
       "<Figure size 432x288 with 1 Axes>"
      ]
     },
     "metadata": {
      "needs_background": "light"
     },
     "output_type": "display_data"
    }
   ],
   "source": [
    "houses_scores_series = {k: pd.Series() for k in houses_df.keys()}\n",
    "for k, v in houses_df.items():\n",
    "    for col in houses_df[k]:\n",
    "        houses_scores_series[k] = houses_scores_series[k].append(houses_df[k][col])\n",
    "        \n",
    "#print(houses_scores_series)\n",
    "\n",
    "for k, v in houses_scores_series.items():\n",
    "    plt.hist(v, bins, histtype='bar', rwidth=1, alpha=0.1, label=k)\n",
    "plt.legend()\n",
    "plt.show()"
   ]
  },
  {
   "cell_type": "code",
   "execution_count": 12,
   "metadata": {},
   "outputs": [
    {
     "data": {
      "image/png": "[encoded data removed]",
      "text/plain": [
       "<Figure size 432x288 with 1 Axes>"
      ]
     },
     "metadata": {
      "needs_background": "light"
     },
     "output_type": "display_data"
    }
   ],
   "source": [
    "for col in scores_df:\n",
    "    plt.hist(scores_df[col], bins, rwidth=0.9, alpha=0.5, label=col)\n",
    "#plt.legend()\n",
    "plt.show()"
   ]
  },
  {
   "cell_type": "code",
   "execution_count": 16,
   "metadata": {},
   "outputs": [
    {
     "data": {
      "text/plain": [
       "Arithmancy                       0.082528\n",
       "Astronomy                        0.512377\n",
       "Herbology                        0.747755\n",
       "Defense Against the Dark Arts    0.591140\n",
       "Divination                       0.549033\n",
       "Muggle Studies                   0.853373\n",
       "Ancient Runes                    0.566074\n",
       "History of Magic                 0.846511\n",
       "Transfiguration                  0.846511\n",
       "Potions                          0.598582\n",
       "Care of Magical Creatures        0.063826\n",
       "Charms                           0.853373\n",
       "Flying                           0.566074\n",
       "dtype: float64"
      ]
     },
     "execution_count": 16,
     "metadata": {},
     "output_type": "execute_result"
    }
   ],
   "source": [
    "df.corr()[df.corr() < 1.0].max()"
   ]
  },
  {
   "cell_type": "code",
   "execution_count": 23,
   "metadata": {},
   "outputs": [
    {
     "data": {
      "text/plain": [
       "<matplotlib.collections.PathCollection at 0x7f9f1e8610f0>"
      ]
     },
     "execution_count": 23,
     "metadata": {},
     "output_type": "execute_result"
    },
    {
     "data": {
      "image/png": "[encoded data removed]",
      "text/plain": [
       "<Figure size 432x288 with 1 Axes>"
      ]
     },
     "metadata": {
      "needs_background": "light"
     },
     "output_type": "display_data"
    }
   ],
   "source": [
    "plt.scatter( df['Charms'],df['Muggle Studies'], s=1)"
   ]
  },
  {
   "cell_type": "code",
   "execution_count": 22,
   "metadata": {},
   "outputs": [
    {
     "data": {
      "text/plain": [
       "<matplotlib.collections.PathCollection at 0x7f9f1e66e0f0>"
      ]
     },
     "execution_count": 22,
     "metadata": {},
     "output_type": "execute_result"
    },
    {
     "data": {
      "image/png": "[encoded data removed]",
      "text/plain": [
       "<Figure size 432x288 with 1 Axes>"
      ]
     },
     "metadata": {
      "needs_background": "light"
     },
     "output_type": "display_data"
    }
   ],
   "source": [
    "plt.scatter(df['Transfiguration'], df['History of Magic'], s=1)"
   ]
  },
  {
   "cell_type": "code",
   "execution_count": null,
   "metadata": {},
   "outputs": [],
   "source": []
  },
  {
   "cell_type": "code",
   "execution_count": null,
   "metadata": {},
   "outputs": [],
   "source": []
  },
  {
   "cell_type": "code",
   "execution_count": null,
   "metadata": {},
   "outputs": [],
   "source": []
  },
  {
   "cell_type": "code",
   "execution_count": null,
   "metadata": {},
   "outputs": [],
   "source": []
  },
  {
   "cell_type": "code",
   "execution_count": null,
   "metadata": {},
   "outputs": [],
   "source": []
  },
  {
   "cell_type": "code",
   "execution_count": null,
   "metadata": {},
   "outputs": [],
   "source": []
  },
  {
   "cell_type": "code",
   "execution_count": null,
   "metadata": {},
   "outputs": [],
   "source": []
  },
  {
   "cell_type": "code",
   "execution_count": null,
   "metadata": {},
   "outputs": [],
   "source": []
  }
 ],
 "metadata": {
  "kernelspec": {
   "display_name": "Python 3",
   "language": "python",
   "name": "python3"
  },
  "language_info": {
   "codemirror_mode": {
    "name": "ipython",
    "version": 3
   },
   "file_extension": ".py",
   "mimetype": "text/x-python",
   "name": "python",
   "nbconvert_exporter": "python",
   "pygments_lexer": "ipython3",
   "version": "3.7.3"
  }
 },
 "nbformat": 4,
 "nbformat_minor": 2
}
